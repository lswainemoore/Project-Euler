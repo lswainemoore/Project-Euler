{
 "cells": [
  {
   "cell_type": "code",
   "execution_count": null,
   "metadata": {
    "collapsed": true
   },
   "outputs": [],
   "source": [
    "'''1000-digit Fibonacci number\n",
    "Problem 25\n",
    "The Fibonacci sequence is defined by the recurrence relation:\n",
    "\n",
    "Fn = Fn−1 + Fn−2, where F1 = 1 and F2 = 1.\n",
    "Hence the first 12 terms will be:\n",
    "\n",
    "F1 = 1\n",
    "F2 = 1\n",
    "F3 = 2\n",
    "F4 = 3\n",
    "F5 = 5\n",
    "F6 = 8\n",
    "F7 = 13\n",
    "F8 = 21\n",
    "F9 = 34\n",
    "F10 = 55\n",
    "F11 = 89\n",
    "F12 = 144\n",
    "The 12th term, F12, is the first term to contain three digits.\n",
    "\n",
    "What is the index of the first term in the Fibonacci sequence to contain 1000 digits?'''"
   ]
  },
  {
   "cell_type": "code",
   "execution_count": 10,
   "metadata": {
    "collapsed": false
   },
   "outputs": [
    {
     "name": "stdout",
     "output_type": "stream",
     "text": [
      "1000\n",
      "4782\n"
     ]
    }
   ],
   "source": [
    "a = 1\n",
    "b = 1\n",
    "sum=0\n",
    "i=2\n",
    "while len(str(b))<1000:\n",
    "    b += a\n",
    "    a = b - a\n",
    "    if b%2 == 0:\n",
    "        sum += b\n",
    "    i += 1\n",
    "print len(str(b))\n",
    "print i"
   ]
  }
 ],
 "metadata": {
  "kernelspec": {
   "display_name": "Python 2",
   "language": "python",
   "name": "python2"
  },
  "language_info": {
   "codemirror_mode": {
    "name": "ipython",
    "version": 2
   },
   "file_extension": ".py",
   "mimetype": "text/x-python",
   "name": "python",
   "nbconvert_exporter": "python",
   "pygments_lexer": "ipython2",
   "version": "2.7.10"
  }
 },
 "nbformat": 4,
 "nbformat_minor": 0
}

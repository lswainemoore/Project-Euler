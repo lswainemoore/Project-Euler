{
 "cells": [
  {
   "cell_type": "code",
   "execution_count": null,
   "metadata": {
    "collapsed": true
   },
   "outputs": [],
   "source": [
    "'''Palindromic sums\n",
    "Problem 125\n",
    "The palindromic number 595 is interesting because it can be written as the sum of consecutive squares: 62 + 72 + 82 + 92 + 102 + 112 + 122.\n",
    "\n",
    "There are exactly eleven palindromes below one-thousand that can be written as consecutive square sums, and the sum of these palindromes is 4164. Note that 1 = 02 + 12 has not been included as this problem is concerned with the squares of positive integers.\n",
    "\n",
    "Find the sum of all the numbers less than 108 that are both palindromic and can be written as the sum of consecutive squares.'''"
   ]
  },
  {
   "cell_type": "code",
   "execution_count": null,
   "metadata": {
    "collapsed": false
   },
   "outputs": [
    {
     "name": "stdout",
     "output_type": "stream",
     "text": [
      "5\n",
      "55\n",
      "77\n",
      "181\n",
      "313\n",
      "434\n",
      "505\n",
      "545\n",
      "595\n",
      "636\n",
      "818\n",
      "1001\n",
      "1111\n",
      "1441\n",
      "1771\n",
      "4334\n",
      "6446\n",
      "17371\n",
      "17871\n",
      "19691\n",
      "21712\n",
      "41214\n",
      "42924\n",
      "44444\n",
      "46564\n",
      "51015\n",
      "65756\n",
      "81818\n",
      "97679\n",
      "99199\n",
      "108801\n",
      "127721\n",
      "137731\n",
      "138831\n",
      "139931\n",
      "148841\n",
      "161161\n",
      "166661\n",
      "171171\n",
      "188881\n",
      "191191\n",
      "363363\n",
      "435534\n",
      "444444\n",
      "485584\n",
      "494494\n",
      "525525\n",
      "554455\n",
      "629926\n",
      "635536\n",
      "646646\n",
      "656656\n",
      "904409\n",
      "923329\n",
      "944449\n",
      "964469\n",
      "972279\n",
      "981189\n",
      "982289\n",
      "1077701\n",
      "1224221\n",
      "1365631\n",
      "1681861\n",
      "1690961\n",
      "1949491\n",
      "1972791\n",
      "1992991"
     ]
    }
   ],
   "source": [
    "import math\n",
    "\n",
    "def isP(x):\n",
    "    x = str(x)\n",
    "    for i in range(0,int(math.floor(len(x)/2))):\n",
    "        if x[i] != x[-1 * i - 1]:\n",
    "            return 0\n",
    "    return 1\n",
    "\n",
    "\n",
    "#http://stackoverflow.com/questions/1988804/what-is-memoization-and-how-can-i-use-it-in-python\n",
    "sumMemo = {}\n",
    "\n",
    "def sumConSq(start,end):\n",
    "    if end <= start:\n",
    "        return start**2\n",
    "    if not (start,end) in sumMemo:\n",
    "        sumMemo[(start,end)] = end**2 + sumConSq(start,end-1)\n",
    "    return sumMemo[(start,end)]\n",
    "    \n",
    "def oldsumConSq(start,end):\n",
    "    sum = 0\n",
    "    for i in range(start,end + 1):\n",
    "        sum += i**2\n",
    "    return sum       \n",
    "\n",
    "def isS(x):\n",
    "    for start in range(1,int(math.ceil(math.sqrt(x)))):\n",
    "        for end in range(start+1,int(math.ceil(math.sqrt(x)))):\n",
    "            r = sumConSq(start,end)\n",
    "            if r == x:\n",
    "                return 1\n",
    "            elif r > x:\n",
    "                break;\n",
    "    return 0\n",
    "\n",
    "def S(x):\n",
    "    go = 1\n",
    "    for start in range(1,int(math.sqrt(x))):\n",
    "        for end in range(start+1,int(math.sqrt(x))):\n",
    "            r = sumConSq(start,end)\n",
    "            if r == x:\n",
    "                go = 0\n",
    "                print range(start,end + 1)\n",
    "                break\n",
    "            elif r > x:\n",
    "                break\n",
    "        if not(go):\n",
    "            break\n",
    "    return [0]\n",
    "\n",
    "sum = 0\n",
    "end = 10**8\n",
    "for i in range(1,end):\n",
    "    if isP(i) and isS(i):\n",
    "        print i\n",
    "        sum += i\n",
    "print sum\n",
    "            "
   ]
  },
  {
   "cell_type": "code",
   "execution_count": 85,
   "metadata": {
    "collapsed": false
   },
   "outputs": [
    {
     "name": "stdout",
     "output_type": "stream",
     "text": [
      "here2 start: 1 end: 2\n",
      "here1 start: 1 end: 1\n",
      "1\n",
      "5\n"
     ]
    }
   ],
   "source": [
    "sumMemo = {}\n",
    "\n",
    "def sumConSq(start,end):\n",
    "    if end <= start:\n",
    "        print 'here1 start: ' + str(start) + ' end: ' + str(end)\n",
    "        print start**2\n",
    "        return start**2\n",
    "    if not (start,end) in sumMemo:\n",
    "        print 'here2 start: ' + str(start) + ' end: ' + str(end)\n",
    "        sumMemo[(start,end)] = end**2 + sumConSq(start,end-1)\n",
    "    return sumMemo[(start,end)]\n",
    "        \n",
    "print sumConSq(1,2)"
   ]
  },
  {
   "cell_type": "code",
   "execution_count": 64,
   "metadata": {
    "collapsed": false
   },
   "outputs": [
    {
     "name": "stdout",
     "output_type": "stream",
     "text": [
      "[1, 2]\n"
     ]
    },
    {
     "data": {
      "text/plain": [
       "[0]"
      ]
     },
     "execution_count": 64,
     "metadata": {},
     "output_type": "execute_result"
    }
   ],
   "source": [
    "S(5)"
   ]
  },
  {
   "cell_type": "code",
   "execution_count": 18,
   "metadata": {
    "collapsed": false
   },
   "outputs": [
    {
     "name": "stdout",
     "output_type": "stream",
     "text": [
      "25\n"
     ]
    }
   ],
   "source": [
    "def sumConSq(start,end):\n",
    "    sum = 0\n",
    "    for i in range(start,end + 1):\n",
    "        sum += i**2\n",
    "    return sum   \n",
    "\n",
    "\n",
    "print sumConSq(5,5)"
   ]
  }
 ],
 "metadata": {
  "kernelspec": {
   "display_name": "Python 2",
   "language": "python",
   "name": "python2"
  },
  "language_info": {
   "codemirror_mode": {
    "name": "ipython",
    "version": 2
   },
   "file_extension": ".py",
   "mimetype": "text/x-python",
   "name": "python",
   "nbconvert_exporter": "python",
   "pygments_lexer": "ipython2",
   "version": "2.7.10"
  }
 },
 "nbformat": 4,
 "nbformat_minor": 0
}

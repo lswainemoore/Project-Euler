{
 "cells": [
  {
   "cell_type": "code",
   "execution_count": null,
   "metadata": {
    "collapsed": true
   },
   "outputs": [],
   "source": [
    "'''Permuted multiples\n",
    "Problem 52\n",
    "It can be seen that the number, 125874, and its double, 251748, contain exactly the same digits, but in a different order.\n",
    "\n",
    "Find the smallest positive integer, x, such that 2x, 3x, 4x, 5x, and 6x, contain the same digits.'''"
   ]
  },
  {
   "cell_type": "code",
   "execution_count": 11,
   "metadata": {
    "collapsed": false
   },
   "outputs": [
    {
     "name": "stdout",
     "output_type": "stream",
     "text": [
      "142857\n"
     ]
    }
   ],
   "source": [
    "def permuted(x,y):\n",
    "    sx = str(x)\n",
    "    sy = str(y)\n",
    "    for i in range(0,len(sx)):\n",
    "        f = sy.find(sx[i])\n",
    "        if f == -1:\n",
    "            return 0\n",
    "        sy = sy[:f]+sy[f+1:]\n",
    "    return 1\n",
    "\n",
    "i = 1\n",
    "go = 1\n",
    "while go:\n",
    "    for j in range(1,7):\n",
    "        if not(permuted(i,i*j)):\n",
    "            break\n",
    "        if j == 6:\n",
    "            go = 0\n",
    "            print i\n",
    "    i +=1"
   ]
  }
 ],
 "metadata": {
  "kernelspec": {
   "display_name": "Python 2",
   "language": "python",
   "name": "python2"
  },
  "language_info": {
   "codemirror_mode": {
    "name": "ipython",
    "version": 2
   },
   "file_extension": ".py",
   "mimetype": "text/x-python",
   "name": "python",
   "nbconvert_exporter": "python",
   "pygments_lexer": "ipython2",
   "version": "2.7.10"
  }
 },
 "nbformat": 4,
 "nbformat_minor": 0
}
